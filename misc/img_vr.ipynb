{
 "cells": [
  {
   "cell_type": "markdown",
   "id": "435e3349",
   "metadata": {},
   "source": [
    "### Reproduce the IMG/VR subset"
   ]
  },
  {
   "cell_type": "code",
   "execution_count": 1,
   "id": "ff1ffa50-5de2-4070-96de-f0386cbdbbff",
   "metadata": {},
   "outputs": [],
   "source": [
    "import re\n",
    "import pandas as pd\n",
    "\n",
    "# Helper functions\n",
    "# Function to extract host taxonomy domain\n",
    "def extract_host_taxonomy_domain(host_taxonomy):\n",
    "    # Split the string by ';'\n",
    "    parts = host_taxonomy.split(';')\n",
    "    # Take the first part and remove the prefix (e.g., d__)\n",
    "    domain = parts[0].split('__')[-1] if parts else ''\n",
    "    if not re.search('[a-zA-Z]', domain):\n",
    "        domain = \"Unknown\"\n",
    "    return domain\n",
    "\n",
    "def extract_virus_realm(virus_taxonomy):\n",
    "    parts = virus_taxonomy.split(';')\n",
    "    for part in parts:\n",
    "        if part.startswith('r__'):\n",
    "            return part.split('__')[-1]\n",
    "    return ''\n",
    "\n",
    "def by_kingdom(dframe):\n",
    "    return dframe['Host taxonomy prediction'].apply(extract_host_taxonomy_domain).value_counts()\n",
    "\n",
    "def by_realm(dframe):\n",
    "    return dframe['Taxonomic classification'].apply(extract_virus_realm).value_counts()\n",
    "    "
   ]
  },
  {
   "cell_type": "code",
   "execution_count": 2,
   "id": "e6d5166f-d407-424d-bfba-9d1769cf8818",
   "metadata": {},
   "outputs": [],
   "source": [
    "img_vr_file = \"IMG_VR/IMG_VR_2022-09-20_6.1/IMGVR_all_Sequence_information-high_confidence.tsv\"\n",
    "v0 = pd.read_csv(img_vr_file, header=0, sep='\\t', low_memory=False)"
   ]
  },
  {
   "cell_type": "code",
   "execution_count": 3,
   "id": "2cf7babf-b7ef-437b-b9c3-94202d467e92",
   "metadata": {},
   "outputs": [
    {
     "data": {
      "text/plain": [
       "(5576197, 19)"
      ]
     },
     "execution_count": 3,
     "metadata": {},
     "output_type": "execute_result"
    }
   ],
   "source": [
    "v0.shape"
   ]
  },
  {
   "cell_type": "markdown",
   "id": "777ac2e6-f396-40d4-bb86-eba21b629ac8",
   "metadata": {},
   "source": [
    "### Step 0. Representative viral OTU\n",
    "- Keep only one representative viral genome per viral operational taxonomic unit (vOTU)"
   ]
  },
  {
   "cell_type": "code",
   "execution_count": 4,
   "id": "12f6f23c-46f6-47ea-b5a8-be4df4cc132b",
   "metadata": {},
   "outputs": [
    {
     "data": {
      "text/plain": [
       "2917521"
      ]
     },
     "execution_count": 4,
     "metadata": {},
     "output_type": "execute_result"
    }
   ],
   "source": [
    "v0 = v0.drop_duplicates(subset='vOTU')\n",
    "v0['vOTU'].nunique()"
   ]
  },
  {
   "cell_type": "markdown",
   "id": "549939f8-466d-413e-810a-8f7d2dcf9e4f",
   "metadata": {},
   "source": [
    "### Step 1. Remove potential eukaryotic viruses\n",
    "- Remove potential eukaryotic viruses by keeping only sequences whose assigned taxonomic classification was found within a prokaryotic host at least twice."
   ]
  },
  {
   "cell_type": "code",
   "execution_count": 5,
   "id": "6d7c2954-b689-4385-a286-831c9e8265b8",
   "metadata": {},
   "outputs": [],
   "source": [
    "# Extract host domain\n",
    "v0.loc[:, 'Host_domain'] = v0.loc[:, 'Host taxonomy prediction'].apply(extract_host_taxonomy_domain)\n",
    "\n",
    "# Calculate the total count of each unique Taxonomic classification value by Host_domain\n",
    "host_domain_counts = v0.groupby(['Taxonomic classification', 'Host_domain']).size().unstack(fill_value=0)\n",
    "host_domain_counts['Prokaryotic'] = host_domain_counts['Bacteria'] + host_domain_counts['Archaea']\n",
    "to_remove = host_domain_counts[(host_domain_counts['Prokaryotic'] < 2)].index.tolist()\n",
    "\n",
    "v1 = v0[~v0['Taxonomic classification'].isin(to_remove)]"
   ]
  },
  {
   "cell_type": "markdown",
   "id": "02dbe0bb-9591-48e6-b485-fc6c64d46555",
   "metadata": {},
   "source": [
    "### Step 2. Remove known pathogenic genomes\n",
    "- Exclude all viruses assigned to certain families or orders based on safety precaution."
   ]
  },
  {
   "cell_type": "code",
   "execution_count": 6,
   "id": "2f7ebf3d-ebcf-4ed4-9747-674729e3faa8",
   "metadata": {},
   "outputs": [],
   "source": [
    "excluded_families = [\n",
    "    \"f__Adenoviridae\", \"f__Caliciviridae\", \"f__Coronaviridae\", \"f__Filoviridae\", \"f__Flaviviridae\", \n",
    "    \"f__Hantaviridae\", \"f__Hepadnaviridae\", \"f__Herpesviridae\", \"f__Orthomyxoviridae\", \n",
    "    \"f__Papillomaviridae\", \"f__Paramyxoviridae\", \"f__Picornaviridae\", \"f__Poxviridae\", \n",
    "    \"f__Reoviridae\", \"f__Retroviridae\", \"f__Rhabdoviridae\", \"f__Circoviridae\", \n",
    "    \"f__Geminiviridae\", \"f__Picobirnaviridae\"\n",
    "]\n",
    "\n",
    "excluded_orders = [\n",
    "    \"o__Amarillovirales\", \"o__Durnavirales\", \"o__Geplafuvirales\", \"o__Herpesvirales\", \n",
    "    \"o__Lefavirales\", \"o__Ortervirales\", \"o__Orthopolintovirales\", \"o__Piccovirales\", \n",
    "    \"o__Picornavirales\", \"o__Priklausovirales\", \"o__Cirlivirales\", \"o__Mulpavirales\"\n",
    "]\n",
    "\n",
    "excluded_list = excluded_families + excluded_orders\n",
    "\n",
    "def exclude_classifications(taxa_class):\n",
    "    parts = taxa_class.split(';')\n",
    "    for item in excluded_list:\n",
    "        if item in parts:\n",
    "            return False\n",
    "    return True\n",
    "\n",
    "v2 = v1[v1['Taxonomic classification'].apply(exclude_classifications)]"
   ]
  },
  {
   "cell_type": "markdown",
   "id": "547690af-194c-41cb-aedc-6bbb22ee6506",
   "metadata": {},
   "source": [
    "### Step 3. Remove genomes with poor taxonomic specificity\n",
    "- Remove viruses with poor taxonomic specificity, including those with no assigned realm at all, and those only assigned up to the level of r:Riboviria, r:Monodnaviria, k:Heunggongvirae, k:Bamfordvirae, p:Preplasmiviricota, p:Cressdnaviricota, p:Pisuviricota, or c:Tectiliviricetes"
   ]
  },
  {
   "cell_type": "code",
   "execution_count": 7,
   "id": "1f89db10-4351-4be8-891b-97249ebaf905",
   "metadata": {},
   "outputs": [],
   "source": [
    "# Keep viruses if specified realm\n",
    "v3a = v2[v2['Taxonomic classification'].str.startswith('r__')]"
   ]
  },
  {
   "cell_type": "code",
   "execution_count": 8,
   "id": "5f57533c-9676-4547-8722-349bb5a0a8ad",
   "metadata": {},
   "outputs": [],
   "source": [
    "def filter_by_taxa(df, excluded_taxa):\n",
    "    pattern = '|'.join(excluded_taxa)\n",
    "    df_filtered = df[~df['Taxonomic classification'].str.contains(pattern, regex=True)]\n",
    "    return df_filtered\n",
    "\n",
    "excluded_taxa = [\n",
    "    \"r__Riboviria;;\", \"r__Monodnaviria;;\", \"k__Heunggongvirae;;\", \"k__Bamfordvirae;;\", \n",
    "    \"p__Preplasmiviricota;;\", \"p__Cressdnaviricota;;\", \"p__Pisuviricota;;\", \"c__Tectiliviricetes;;\"\n",
    "]\n",
    "\n",
    "v3b = filter_by_taxa(v3a, excluded_taxa)"
   ]
  },
  {
   "cell_type": "code",
   "execution_count": 9,
   "id": "92004932-2c54-483a-8d3b-7a039c84ba98",
   "metadata": {},
   "outputs": [
    {
     "data": {
      "text/plain": [
       "(2646663, 20)"
      ]
     },
     "execution_count": 9,
     "metadata": {},
     "output_type": "execute_result"
    }
   ],
   "source": [
    "v3b.shape"
   ]
  },
  {
   "cell_type": "code",
   "execution_count": 10,
   "id": "1ea98219-3b9b-4dea-9aa9-02e936df1d5e",
   "metadata": {},
   "outputs": [
    {
     "data": {
      "text/plain": [
       "Host taxonomy prediction\n",
       "Unknown     2368638\n",
       "Bacteria     276324\n",
       "Archaea        1701\n",
       "Name: count, dtype: int64"
      ]
     },
     "execution_count": 10,
     "metadata": {},
     "output_type": "execute_result"
    }
   ],
   "source": [
    "by_kingdom(v3b)"
   ]
  },
  {
   "cell_type": "code",
   "execution_count": 11,
   "id": "f302a836-ddfd-4b1c-b1e1-d96c0b6e6d2c",
   "metadata": {},
   "outputs": [
    {
     "data": {
      "text/plain": [
       "Taxonomic classification\n",
       "Duplodnaviria     2628319\n",
       "Monodnaviria        17782\n",
       "Varidnaviria          395\n",
       "Adnaviria             124\n",
       "Bicaudaviridae         35\n",
       "Fuselloviridae          8\n",
       "Name: count, dtype: int64"
      ]
     },
     "execution_count": 11,
     "metadata": {},
     "output_type": "execute_result"
    }
   ],
   "source": [
    "by_realm(v3b)"
   ]
  },
  {
   "cell_type": "code",
   "execution_count": 12,
   "id": "f6386772-a45a-4a38-a398-4bf119706f05",
   "metadata": {},
   "outputs": [
    {
     "data": {
      "image/png": "[encoded data removed]",
      "text/plain": [
       "<Figure size 640x480 with 1 Axes>"
      ]
     },
     "metadata": {},
     "output_type": "display_data"
    }
   ],
   "source": [
    "import seaborn as sns\n",
    "import matplotlib.pyplot as plt\n",
    "sns.set(font_scale=1.25)\n",
    "sns.histplot(data=v3b, x='Length', log_scale=True, bins=30)\n",
    "plt.xlabel('\\nIMG/VR Genome Size (bp, log-scale)')\n",
    "plt.ylabel('Number of Genomes\\n')\n",
    "plt.savefig('img_vr_genome_size_log.png', dpi=800)\n",
    "plt.show()"
   ]
  },
  {
   "cell_type": "code",
   "execution_count": 13,
   "id": "c591f88e-42eb-4f8e-b2df-0ec9a573bcd0",
   "metadata": {},
   "outputs": [
    {
     "data": {
      "text/plain": [
       "(2646663, 35562, 13437)"
      ]
     },
     "execution_count": 13,
     "metadata": {},
     "output_type": "execute_result"
    }
   ],
   "source": [
    "v3b.shape[0], round(v3b['Length'].sum() / 1e6), round(v3b['Length'].mean())"
   ]
  },
  {
   "cell_type": "code",
   "execution_count": null,
   "id": "898bc211-6805-4fdb-a5e3-d33f70c11bb3",
   "metadata": {},
   "outputs": [],
   "source": []
  }
 ],
 "metadata": {
  "kernelspec": {
   "display_name": "Python 3 (ipykernel)",
   "language": "python",
   "name": "python3"
  },
  "language_info": {
   "codemirror_mode": {
    "name": "ipython",
    "version": 3
   },
   "file_extension": ".py",
   "mimetype": "text/x-python",
   "name": "python",
   "nbconvert_exporter": "python",
   "pygments_lexer": "ipython3",
   "version": "3.8.18"
  }
 },
 "nbformat": 4,
 "nbformat_minor": 5
}
